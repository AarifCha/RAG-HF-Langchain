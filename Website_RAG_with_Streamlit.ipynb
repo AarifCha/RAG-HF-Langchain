{
  "cells": [
    {
      "cell_type": "markdown",
      "metadata": {
        "id": "view-in-github",
        "colab_type": "text"
      },
      "source": [
        "<a href=\"https://colab.research.google.com/github/AarifCha/RAG-HF-Langchain/blob/main/Website_RAG_with_Streamlit.ipynb\" target=\"_parent\"><img src=\"https://colab.research.google.com/assets/colab-badge.svg\" alt=\"Open In Colab\"/></a>"
      ]
    },
    {
      "cell_type": "markdown",
      "source": [
        "# Install Dependencies"
      ],
      "metadata": {
        "id": "w4DEnD4mdC4N"
      }
    },
    {
      "cell_type": "markdown",
      "source": [
        "Lets first pip install all the dependencies need for this project."
      ],
      "metadata": {
        "id": "KmlewQ8IeXfF"
      }
    },
    {
      "cell_type": "code",
      "execution_count": 7,
      "metadata": {
        "colab": {
          "base_uri": "https://localhost:8080/"
        },
        "id": "PaboTxUVVXen",
        "outputId": "cfed9474-aa49-4246-aa85-d3019e821425"
      },
      "outputs": [
        {
          "output_type": "stream",
          "name": "stdout",
          "text": [
            "Requirement already satisfied: pyngrok in /usr/local/lib/python3.10/dist-packages (7.2.0)\n",
            "Requirement already satisfied: PyYAML>=5.1 in /usr/local/lib/python3.10/dist-packages (from pyngrok) (6.0.1)\n"
          ]
        }
      ],
      "source": [
        "# !pip install --quiet torch transformers sentence-transformers\n",
        "# !pip install --quiet langchain langchain_community\n",
        "# !pip install --quiet pypdf\n",
        "# !pip install --quiet chromadb\n",
        "!pip install --quiet streamlit\n",
        "!pip install --quiet streamlit_chat\n",
        "# We will use ngrok to host our webapp\n",
        "!pip install pyngrok"
      ]
    },
    {
      "cell_type": "markdown",
      "source": [
        "# Writing the .py file for Streamlit"
      ],
      "metadata": {
        "id": "FuCIFE6_dG7c"
      }
    },
    {
      "cell_type": "markdown",
      "source": [
        "First we will write a StreamlitApp.py file that contains the Streamlit application code that we will later run and host using ngrok.\n",
        "\n",
        "The layout of the application is pretty simple. We will have two tabs, one where we chat with the bot, and one where we can upload documents. Currently the bot just returns the uppercased version of the input message, except for when the message is \"file names\", in which case it returns the names of the files that have been uploaded.\n",
        "\n",
        "Soon I will modify this to have the bot respond using the RAG setup in the HuggingFaceWLangChain.ipynb notebook."
      ],
      "metadata": {
        "id": "o8WMfNrkefi8"
      }
    },
    {
      "cell_type": "code",
      "execution_count": 13,
      "metadata": {
        "colab": {
          "base_uri": "https://localhost:8080/"
        },
        "id": "Nz32mEGNYBiR",
        "outputId": "99dc7c4a-cace-4e09-9544-e19a504a1241"
      },
      "outputs": [
        {
          "output_type": "stream",
          "name": "stdout",
          "text": [
            "Overwriting StreamlitApp.py\n"
          ]
        }
      ],
      "source": [
        "%%writefile StreamlitApp.py\n",
        "import streamlit as st\n",
        "\n",
        "st.set_page_config(page_title=\"Chatbot\", page_icon=\":robot:\")\n",
        "st.title(\"Chatbot :robot_face:\")\n",
        "\n",
        "# Initialize chat history\n",
        "if \"messages\" not in st.session_state:\n",
        "    st.session_state.messages = []\n",
        "\n",
        "# Initialize PDF files\n",
        "if \"pdf_files\" not in st.session_state.keys():\n",
        "    st.session_state[\"pdf_files\"] = []\n",
        "\n",
        "# Initialize uploaded files\n",
        "if \"uploaded_files\" not in st.session_state.keys():\n",
        "    st.session_state[\"uploaded_files\"] = []\n",
        "\n",
        "# Layout: Two tabs, one for the chat and one for document uploading\n",
        "tab1, tab2 = st.tabs([\"Chat\", \"Documents\"])\n",
        "\n",
        "# The chat window is cleared out every time we upload a file or\n",
        "# input new chat. Therefore we need to print out the chat after\n",
        "# any operation we do. To make it easier we will just make a function\n",
        "# that prints out the chat history and just call it at the end of\n",
        "# every operation.\n",
        "def print_all_chat():\n",
        "    # This reprints all the chat history\n",
        "    with tab1:\n",
        "        with col1:\n",
        "            for message in reversed(st.session_state.messages):\n",
        "                with st.chat_message(message[\"role\"]):\n",
        "                    st.markdown(message[\"content\"])\n",
        "\n",
        "def files_update():\n",
        "    # Call back when a set of files is uploaded.\n",
        "    # We simply append the files that haven't been previously uploaded\n",
        "    # into pdf_files session_state and clear out the uploaded_files.\n",
        "\n",
        "    # This will eventually be replaced by code that updates the vector store\n",
        "    # with the newly uploaded files.\n",
        "\n",
        "    for uploaded_file in st.session_state[\"uploaded_files\"]:\n",
        "        if uploaded_file not in st.session_state[\"pdf_files\"]:\n",
        "           st.session_state[\"pdf_files\"].append(uploaded_file)\n",
        "\n",
        "    st.session_state[\"uploaded_files\"] = []\n",
        "\n",
        "    print_all_chat()\n",
        "\n",
        "def submit():\n",
        "    # Callback for when a new chat input is submitted\n",
        "    prompt = st.session_state.chat_input\n",
        "    st.session_state.chat_input = \"\"\n",
        "\n",
        "    # We first check if the input is \"file names\", if so\n",
        "    # we print out the names of all the files that have been uploaded.\n",
        "    # If not, we will simply uppercase the input and return it as a response.\n",
        "\n",
        "    # This will eventually be replaced by code that uses a RAG to generate a\n",
        "    # response to the inputted question.\n",
        "\n",
        "    if prompt == \"file names\":\n",
        "        response = \"Here are the file names:\\n\"\n",
        "        for file in st.session_state[\"pdf_files\"]:\n",
        "            response += f\"- {file.name}\\n\"\n",
        "    else:\n",
        "        response = prompt.upper()\n",
        "\n",
        "    # Add user message to chat history\n",
        "    st.session_state.messages.append({\"role\": \"user\", \"content\": prompt})\n",
        "    # Add assistant response to chat history\n",
        "    st.session_state.messages.append({\"role\": \"assistant\", \"content\": response})\n",
        "\n",
        "    # Print out the previous messages\n",
        "    print_all_chat()\n",
        "\n",
        "with tab1:\n",
        "    # In this tab we set up two columns, one for the chat window and one for\n",
        "    # the clear chat button. When a new chat is inputted we call the submit\n",
        "    # function to generate a response and reprint the chat.\n",
        "    col1, col2 = st.columns([4, 1])\n",
        "\n",
        "    # Column for the chat window\n",
        "    with col1:\n",
        "        st.text_input(\"Enter your message\", key=\"chat_input\", on_change=submit)\n",
        "\n",
        "    # Column for the clear button (clears the chat history)\n",
        "    with col2:\n",
        "        if button := st.button(\"Clear Chat\"):\n",
        "            st.session_state.messages = []\n",
        "            st.rerun()\n",
        "\n",
        "with tab2:\n",
        "    # In this tab, we will have a form that lets us upload\n",
        "    # documents. The uploaded documents are processed according\n",
        "    # to the files_update function.\n",
        "    with st.form(\"my-form\", clear_on_submit=True):\n",
        "        file = st.file_uploader(\"FILE UPLOADER\")\n",
        "        submitted = st.form_submit_button(\"UPLOAD!\")\n",
        "\n",
        "    # After the upload button has been clicked\n",
        "    # and files is not empty we add the files to the\n",
        "    # uploaded_files session state and preocess them.\n",
        "    if submitted and file is not None:\n",
        "        st.write(\"UPLOADED!\")\n",
        "        st.session_state[\"uploaded_files\"] = [file]\n",
        "        files_update()"
      ]
    },
    {
      "cell_type": "markdown",
      "source": [
        "# Hosting the WebApp"
      ],
      "metadata": {
        "id": "mHoHcgj7g0K5"
      }
    },
    {
      "cell_type": "markdown",
      "source": [
        "Here we will use ngrok to host our webapp. To do so, you will need to make an account with them to get an API authtoken. It is free to use, but you must add a credit/debit card with them. It will not be charged and this is their way of preventing abuse. For more information check out their website: https://ngrok.com/\n",
        "\n",
        "We will use port 8501 since it is the unofficial TCP for Streamlit (https://en.wikipedia.org/wiki/List_of_TCP_and_UDP_port_numbers). It is not a randomly chosen number!"
      ],
      "metadata": {
        "id": "mcCkUglnglCi"
      }
    },
    {
      "cell_type": "code",
      "execution_count": 14,
      "metadata": {
        "id": "VAHTnbXJkLsp",
        "colab": {
          "base_uri": "https://localhost:8080/"
        },
        "outputId": "24a032b6-280b-43ef-a47e-87168c448ebc"
      },
      "outputs": [
        {
          "output_type": "stream",
          "name": "stdout",
          "text": [
            "Enter your authtoken, which can be copied from https://dashboard.ngrok.com/get-started/your-authtoken\n",
            "··········\n",
            "Here is your website link:\n",
            " https://b353-34-29-74-191.ngrok-free.app\n"
          ]
        }
      ],
      "source": [
        "import getpass\n",
        "from pyngrok import ngrok, conf\n",
        "\n",
        "# First we ask the user for their ngrok authtoken inorder to\n",
        "print(\"Enter your authtoken, which can be copied from https://dashboard.ngrok.com/get-started/your-authtoken\")\n",
        "conf.get_default().auth_token = getpass.getpass()\n",
        "\n",
        "# We then connect to the 8501 port and get our url\n",
        "public_url = ngrok.connect('8501').public_url\n",
        "print(\"Here is your website link:\\n\",public_url)\n",
        "\n",
        "# Now we simply run the streamlit app on port 8501 and our\n",
        "# webapp is ready to be used!\n",
        "!streamlit run --server.port 8501 StreamlitApp.py >/dev/null"
      ]
    },
    {
      "cell_type": "code",
      "source": [],
      "metadata": {
        "id": "WDtMOWe8Vc9u"
      },
      "execution_count": null,
      "outputs": []
    }
  ],
  "metadata": {
    "colab": {
      "provenance": [],
      "authorship_tag": "ABX9TyMbF3+Ne3zXgFkazldha4tf",
      "include_colab_link": true
    },
    "kernelspec": {
      "display_name": "Python 3",
      "name": "python3"
    },
    "language_info": {
      "name": "python"
    }
  },
  "nbformat": 4,
  "nbformat_minor": 0
}